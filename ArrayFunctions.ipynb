{
  "nbformat": 4,
  "nbformat_minor": 0,
  "metadata": {
    "colab": {
      "provenance": [],
      "toc_visible": true,
      "authorship_tag": "ABX9TyNYajzrKnv/kZzWCwvsvbOl",
      "include_colab_link": true
    },
    "kernelspec": {
      "name": "python3",
      "display_name": "Python 3"
    },
    "language_info": {
      "name": "python"
    }
  },
  "cells": [
    {
      "cell_type": "markdown",
      "metadata": {
        "id": "view-in-github",
        "colab_type": "text"
      },
      "source": [
        "<a href=\"https://colab.research.google.com/github/SanjayJanardhan-89/ApacheSparkHandsOn/blob/main/ArrayFunctions.ipynb\" target=\"_parent\"><img src=\"https://colab.research.google.com/assets/colab-badge.svg\" alt=\"Open In Colab\"/></a>"
      ]
    },
    {
      "cell_type": "markdown",
      "source": [],
      "metadata": {
        "id": "WuOZ0C0lhCL4"
      }
    },
    {
      "cell_type": "markdown",
      "source": [
        "# Setup Pyspark\n"
      ],
      "metadata": {
        "id": "vRYFGd5ehHN5"
      }
    },
    {
      "cell_type": "code",
      "execution_count": 1,
      "metadata": {
        "colab": {
          "base_uri": "https://localhost:8080/",
          "height": 760
        },
        "id": "QLc7s-Qo1irp",
        "outputId": "c2f4bce9-fcf8-4a14-e8db-93c4509b4ceb"
      },
      "outputs": [
        {
          "output_type": "stream",
          "name": "stdout",
          "text": [
            "Hit:1 https://developer.download.nvidia.com/compute/cuda/repos/ubuntu2204/x86_64  InRelease\n",
            "Get:2 https://cloud.r-project.org/bin/linux/ubuntu jammy-cran40/ InRelease [3,632 B]\n",
            "Get:3 https://r2u.stat.illinois.edu/ubuntu jammy InRelease [6,555 B]\n",
            "Get:4 https://r2u.stat.illinois.edu/ubuntu jammy/main amd64 Packages [2,679 kB]\n",
            "Get:5 https://r2u.stat.illinois.edu/ubuntu jammy/main all Packages [8,767 kB]\n",
            "Get:6 http://security.ubuntu.com/ubuntu jammy-security InRelease [129 kB]\n",
            "Hit:7 http://archive.ubuntu.com/ubuntu jammy InRelease\n",
            "Get:8 http://archive.ubuntu.com/ubuntu jammy-updates InRelease [128 kB]\n",
            "Get:9 http://security.ubuntu.com/ubuntu jammy-security/main amd64 Packages [2,692 kB]\n",
            "Get:10 http://archive.ubuntu.com/ubuntu jammy-backports InRelease [127 kB]\n",
            "Get:11 http://security.ubuntu.com/ubuntu jammy-security/universe amd64 Packages [1,237 kB]\n",
            "Get:12 http://archive.ubuntu.com/ubuntu jammy-updates/universe amd64 Packages [1,535 kB]\n",
            "Get:13 http://archive.ubuntu.com/ubuntu jammy-updates/main amd64 Packages [3,003 kB]\n",
            "Get:14 http://archive.ubuntu.com/ubuntu jammy-updates/restricted amd64 Packages [3,962 kB]\n",
            "Get:15 http://archive.ubuntu.com/ubuntu jammy-backports/main amd64 Packages [82.7 kB]\n",
            "Get:16 http://archive.ubuntu.com/ubuntu jammy-backports/universe amd64 Packages [35.2 kB]\n",
            "Hit:17 https://ppa.launchpadcontent.net/deadsnakes/ppa/ubuntu jammy InRelease\n",
            "Hit:18 https://ppa.launchpadcontent.net/graphics-drivers/ppa/ubuntu jammy InRelease\n",
            "Hit:19 https://ppa.launchpadcontent.net/ubuntugis/ppa/ubuntu jammy InRelease\n",
            "Fetched 24.4 MB in 9s (2,825 kB/s)\n",
            "Reading package lists... Done\n",
            "Building dependency tree... Done\n",
            "Reading state information... Done\n",
            "30 packages can be upgraded. Run 'apt list --upgradable' to see them.\n",
            "\u001b[1;33mW: \u001b[0mSkipping acquire of configured file 'main/source/Sources' as repository 'https://r2u.stat.illinois.edu/ubuntu jammy InRelease' does not seem to provide it (sources.list entry misspelt?)\u001b[0m\n",
            "tar: spark-3.2.1-bin-hadoop3.2.tgz: Cannot open: No such file or directory\n",
            "tar: Error is not recoverable: exiting now\n",
            "Requirement already satisfied: pyspark in /usr/local/lib/python3.11/dist-packages (3.5.5)\n",
            "Requirement already satisfied: py4j==0.10.9.7 in /usr/local/lib/python3.11/dist-packages (from pyspark) (0.10.9.7)\n",
            "Requirement already satisfied: py4j in /usr/local/lib/python3.11/dist-packages (0.10.9.7)\n"
          ]
        },
        {
          "output_type": "execute_result",
          "data": {
            "text/plain": [
              "<pyspark.sql.session.SparkSession at 0x7b7b34a4d4d0>"
            ],
            "text/html": [
              "\n",
              "            <div>\n",
              "                <p><b>SparkSession - in-memory</b></p>\n",
              "                \n",
              "        <div>\n",
              "            <p><b>SparkContext</b></p>\n",
              "\n",
              "            <p><a href=\"http://5f3722e84646:4040\">Spark UI</a></p>\n",
              "\n",
              "            <dl>\n",
              "              <dt>Version</dt>\n",
              "                <dd><code>v3.5.5</code></dd>\n",
              "              <dt>Master</dt>\n",
              "                <dd><code>local[*]</code></dd>\n",
              "              <dt>AppName</dt>\n",
              "                <dd><code>OurSparkApp</code></dd>\n",
              "            </dl>\n",
              "        </div>\n",
              "        \n",
              "            </div>\n",
              "        "
            ]
          },
          "metadata": {},
          "execution_count": 1
        }
      ],
      "source": [
        "!sudo apt update\n",
        "!apt-get install openjdk-8-jdk-headless -qq > /dev/null\n",
        "#Check this site for the latest download link https://www.apache.org/dyn/closer.lua/spark/spark-3.2.1/spark-3.2.1-bin-hadoop3.2.tgz\n",
        "!wget -q https://dlcdn.apache.org/spark/spark-3.2.1/spark-3.2.1-bin-hadoop3.2.tgz\n",
        "!tar xf spark-3.2.1-bin-hadoop3.2.tgz\n",
        "!pip install -q findspark\n",
        "!pip install pyspark\n",
        "!pip install py4j\n",
        "\n",
        "import os\n",
        "import sys\n",
        "# os.environ[\"JAVA_HOME\"] = \"/usr/lib/jvm/java-8-openjdk-amd64\"\n",
        "# os.environ[\"SPARK_HOME\"] = \"/content/spark-3.2.1-bin-hadoop3.2\"\n",
        "\n",
        "\n",
        "import findspark\n",
        "findspark.init()\n",
        "findspark.find()\n",
        "\n",
        "import pyspark\n",
        "from pyspark.sql import SparkSession\n",
        "\n",
        "spark= SparkSession \\\n",
        "       .builder \\\n",
        "       .appName(\"OurSparkApp\") \\\n",
        "       .getOrCreate()\n",
        "\n",
        "spark"
      ]
    },
    {
      "cell_type": "markdown",
      "source": [
        "# Create Test data"
      ],
      "metadata": {
        "id": "Q2lTqwHdg9V4"
      }
    },
    {
      "cell_type": "code",
      "source": [
        "from pyspark.sql.functions import collect_list, collect_set,array_contains,array_distinct \\\n",
        ", array_except,array_intersect \\\n",
        ", array_join, array_max,array_min, explode, slice"
      ],
      "metadata": {
        "id": "z72Rf2ppBh39"
      },
      "execution_count": 48,
      "outputs": []
    },
    {
      "cell_type": "code",
      "source": [
        "\n",
        "\n",
        "data = [\n",
        "    (\"x\", 4, 1),\n",
        "    (\"x\", 6, 2),\n",
        "    (\"z\", 7, 3),\n",
        "    (\"a\", 3, 4),\n",
        "    (\"z\", 5, 2),\n",
        "    (\"x\", 7, 3),\n",
        "    (\"x\", 9, 7),\n",
        "    (\"z\", 1, 8),\n",
        "    (\"z\", 4, 9),\n",
        "    (\"z\", 7, 4),\n",
        "    (\"a\", 8, 5),\n",
        "    (\"a\", 5, 2),\n",
        "    (\"a\", 3, 8),\n",
        "    (\"x\", 2, 7),\n",
        "    (\"z\", 1, 9)\n",
        "]\n",
        "\n",
        "columns = [\"col1\", \"col2\", \"col3\"]\n",
        "initial_df = spark.createDataFrame(data, columns)\n",
        "\n",
        "# Generate Array columns\n",
        "full_df = (initial_df\n",
        "            .groupBy(\"col1\")\n",
        "              .agg(\n",
        "                  collect_list(\"col2\").alias(\"array_col1\"),\n",
        "                  collect_list(\"col3\").alias(\"array_col2\")\n",
        "                  )\n",
        "          )\n",
        "\n",
        "# Drop the \"array_col1\" column\n",
        "df = full_df.drop(\"array_col1\")\n",
        "\n",
        "# Show result\n",
        "df.show()\n",
        "df.printSchema()"
      ],
      "metadata": {
        "id": "2DZCMcH5DkWZ",
        "outputId": "be38ca72-f152-4a08-e450-1a873fad168c",
        "colab": {
          "base_uri": "https://localhost:8080/"
        }
      },
      "execution_count": 13,
      "outputs": [
        {
          "output_type": "stream",
          "name": "stdout",
          "text": [
            "+----+------------------+\n",
            "|col1|        array_col2|\n",
            "+----+------------------+\n",
            "|   x|   [1, 2, 3, 7, 7]|\n",
            "|   z|[3, 2, 8, 9, 4, 9]|\n",
            "|   a|      [4, 5, 2, 8]|\n",
            "+----+------------------+\n",
            "\n",
            "root\n",
            " |-- col1: string (nullable = true)\n",
            " |-- array_col2: array (nullable = false)\n",
            " |    |-- element: long (containsNull = false)\n",
            "\n"
          ]
        }
      ]
    },
    {
      "cell_type": "code",
      "source": [
        "full_df.show()\n",
        "full_df.printSchema()"
      ],
      "metadata": {
        "id": "61v6EEf3ADQx",
        "outputId": "6055b0e1-18cd-4f6d-982f-097142134908",
        "colab": {
          "base_uri": "https://localhost:8080/"
        }
      },
      "execution_count": 9,
      "outputs": [
        {
          "output_type": "stream",
          "name": "stdout",
          "text": [
            "+----+------------------+------------------+\n",
            "|col1|        array_col1|        array_col2|\n",
            "+----+------------------+------------------+\n",
            "|   x|   [4, 6, 7, 9, 2]|   [1, 2, 3, 7, 7]|\n",
            "|   z|[7, 5, 1, 4, 7, 1]|[3, 2, 8, 9, 4, 9]|\n",
            "|   a|      [3, 8, 5, 3]|      [4, 5, 2, 8]|\n",
            "+----+------------------+------------------+\n",
            "\n",
            "root\n",
            " |-- col1: string (nullable = true)\n",
            " |-- array_col1: array (nullable = false)\n",
            " |    |-- element: long (containsNull = false)\n",
            " |-- array_col2: array (nullable = false)\n",
            " |    |-- element: long (containsNull = false)\n",
            "\n"
          ]
        }
      ]
    },
    {
      "cell_type": "markdown",
      "source": [
        "# Array Functions\n"
      ],
      "metadata": {
        "id": "6bUBFlE8AwKe"
      }
    },
    {
      "cell_type": "code",
      "source": [
        "df.withColumn(\"result\", array_contains(\"array_col2\", 3)).show()"
      ],
      "metadata": {
        "id": "3D3Jb0rIAunu",
        "outputId": "79798362-4c0e-4f24-de5f-2c739875230d",
        "colab": {
          "base_uri": "https://localhost:8080/"
        }
      },
      "execution_count": 15,
      "outputs": [
        {
          "output_type": "stream",
          "name": "stdout",
          "text": [
            "+----+------------------+------+\n",
            "|col1|        array_col2|result|\n",
            "+----+------------------+------+\n",
            "|   x|   [1, 2, 3, 7, 7]|  true|\n",
            "|   z|[3, 2, 8, 9, 4, 9]|  true|\n",
            "|   a|      [4, 5, 2, 8]| false|\n",
            "+----+------------------+------+\n",
            "\n"
          ]
        }
      ]
    },
    {
      "cell_type": "code",
      "source": [
        "df.withColumn(\"result\", array_distinct(\"array_col2\")).show()"
      ],
      "metadata": {
        "id": "Y4SYO-gxBWsx",
        "outputId": "434604d0-377f-440f-8751-6d6fff7015a7",
        "colab": {
          "base_uri": "https://localhost:8080/"
        }
      },
      "execution_count": 18,
      "outputs": [
        {
          "output_type": "stream",
          "name": "stdout",
          "text": [
            "+----+------------------+---------------+\n",
            "|col1|        array_col2|         result|\n",
            "+----+------------------+---------------+\n",
            "|   x|   [1, 2, 3, 7, 7]|   [1, 2, 3, 7]|\n",
            "|   z|[3, 2, 8, 9, 4, 9]|[3, 2, 8, 9, 4]|\n",
            "|   a|      [4, 5, 2, 8]|   [4, 5, 2, 8]|\n",
            "+----+------------------+---------------+\n",
            "\n"
          ]
        }
      ]
    },
    {
      "cell_type": "code",
      "source": [
        "full_df.withColumn(\"result\", array_except(\"array_col1\", \"array_col2\")).show()"
      ],
      "metadata": {
        "id": "LudKGx_yBoS6",
        "outputId": "042bc7cd-c102-48ed-b745-078f7adc5061",
        "colab": {
          "base_uri": "https://localhost:8080/"
        }
      },
      "execution_count": 26,
      "outputs": [
        {
          "output_type": "stream",
          "name": "stdout",
          "text": [
            "+----+------------------+------------------+---------+\n",
            "|col1|        array_col1|        array_col2|   result|\n",
            "+----+------------------+------------------+---------+\n",
            "|   x|   [4, 6, 7, 9, 2]|   [1, 2, 3, 7, 7]|[4, 6, 9]|\n",
            "|   z|[7, 5, 1, 4, 7, 1]|[3, 2, 8, 9, 4, 9]|[7, 5, 1]|\n",
            "|   a|      [3, 8, 5, 3]|      [4, 5, 2, 8]|      [3]|\n",
            "+----+------------------+------------------+---------+\n",
            "\n"
          ]
        }
      ]
    },
    {
      "cell_type": "code",
      "source": [
        "full_df.withColumn(\"result\", array_intersect(\"array_col1\", \"array_col2\")).show()"
      ],
      "metadata": {
        "id": "UKipvZxFBvkM",
        "outputId": "a9c2578a-2cf3-4476-afa9-3d7d0b56ee7f",
        "colab": {
          "base_uri": "https://localhost:8080/"
        }
      },
      "execution_count": 28,
      "outputs": [
        {
          "output_type": "stream",
          "name": "stdout",
          "text": [
            "+----+------------------+------------------+------+\n",
            "|col1|        array_col1|        array_col2|result|\n",
            "+----+------------------+------------------+------+\n",
            "|   x|   [4, 6, 7, 9, 2]|   [1, 2, 3, 7, 7]|[7, 2]|\n",
            "|   z|[7, 5, 1, 4, 7, 1]|[3, 2, 8, 9, 4, 9]|   [4]|\n",
            "|   a|      [3, 8, 5, 3]|      [4, 5, 2, 8]|[8, 5]|\n",
            "+----+------------------+------------------+------+\n",
            "\n"
          ]
        }
      ]
    },
    {
      "cell_type": "code",
      "source": [
        "df.withColumn(\"result\", array_join(\"array_col2\", \",\")).show()"
      ],
      "metadata": {
        "id": "sTXUKlu7CQwP",
        "outputId": "32d659a8-56d5-44df-91b3-b91f3a20c9ca",
        "colab": {
          "base_uri": "https://localhost:8080/"
        }
      },
      "execution_count": 32,
      "outputs": [
        {
          "output_type": "stream",
          "name": "stdout",
          "text": [
            "+----+------------------+-----------+\n",
            "|col1|        array_col2|     result|\n",
            "+----+------------------+-----------+\n",
            "|   x|   [1, 2, 3, 7, 7]|  1,2,3,7,7|\n",
            "|   z|[3, 2, 8, 9, 4, 9]|3,2,8,9,4,9|\n",
            "|   a|      [4, 5, 2, 8]|    4,5,2,8|\n",
            "+----+------------------+-----------+\n",
            "\n"
          ]
        }
      ]
    },
    {
      "cell_type": "code",
      "source": [
        "(df\n",
        "  .withColumn(\"result-max\", array_max(\"array_col2\"))\n",
        "  .withColumn(\"result-min\", array_min(\"array_col2\"))\n",
        "  .withColumn(\"result-min\", array_min(\"array_col2\"))\n",
        "  .show()\n",
        ")"
      ],
      "metadata": {
        "id": "2H6JjkAQCih9",
        "outputId": "070bb30c-cd2f-458b-8770-16fe69ec2027",
        "colab": {
          "base_uri": "https://localhost:8080/"
        }
      },
      "execution_count": 38,
      "outputs": [
        {
          "output_type": "stream",
          "name": "stdout",
          "text": [
            "+----+------------------+----------+----------+\n",
            "|col1|        array_col2|result-max|result-min|\n",
            "+----+------------------+----------+----------+\n",
            "|   x|   [1, 2, 3, 7, 7]|         7|         1|\n",
            "|   z|[3, 2, 8, 9, 4, 9]|         9|         2|\n",
            "|   a|      [4, 5, 2, 8]|         8|         2|\n",
            "+----+------------------+----------+----------+\n",
            "\n"
          ]
        }
      ]
    },
    {
      "cell_type": "code",
      "source": [
        "(df\n",
        "  .withColumn(\"slice result\", slice(\"array_col2\", 1,2))\n",
        "  .withColumn(\"exploded result\", explode(\"slice result\"))\n",
        "  .show()\n",
        ")"
      ],
      "metadata": {
        "id": "vCWWzYvPCuF5",
        "outputId": "ae389569-84ef-48b7-c173-457474e2a5c9",
        "colab": {
          "base_uri": "https://localhost:8080/"
        }
      },
      "execution_count": 45,
      "outputs": [
        {
          "output_type": "stream",
          "name": "stdout",
          "text": [
            "+----+------------------+------------+---------------+\n",
            "|col1|        array_col2|slice result|exploded result|\n",
            "+----+------------------+------------+---------------+\n",
            "|   x|   [1, 2, 3, 7, 7]|      [1, 2]|              1|\n",
            "|   x|   [1, 2, 3, 7, 7]|      [1, 2]|              2|\n",
            "|   z|[3, 2, 8, 9, 4, 9]|      [3, 2]|              3|\n",
            "|   z|[3, 2, 8, 9, 4, 9]|      [3, 2]|              2|\n",
            "|   a|      [4, 5, 2, 8]|      [4, 5]|              4|\n",
            "|   a|      [4, 5, 2, 8]|      [4, 5]|              5|\n",
            "+----+------------------+------------+---------------+\n",
            "\n"
          ]
        }
      ]
    },
    {
      "cell_type": "code",
      "source": [],
      "metadata": {
        "id": "02UeQKRND7KD"
      },
      "execution_count": null,
      "outputs": []
    }
  ]
}