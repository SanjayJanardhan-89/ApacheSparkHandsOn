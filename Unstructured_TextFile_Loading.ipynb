{
  "nbformat": 4,
  "nbformat_minor": 0,
  "metadata": {
    "colab": {
      "provenance": [],
      "authorship_tag": "ABX9TyN1jlp76DOAvD84s4+26HS8",
      "include_colab_link": true
    },
    "kernelspec": {
      "name": "python3",
      "display_name": "Python 3"
    },
    "language_info": {
      "name": "python"
    }
  },
  "cells": [
    {
      "cell_type": "markdown",
      "metadata": {
        "id": "view-in-github",
        "colab_type": "text"
      },
      "source": [
        "<a href=\"https://colab.research.google.com/github/SanjayJanardhan-89/ApacheSparkHandsOn/blob/main/Unstructured_TextFile_Loading.ipynb\" target=\"_parent\"><img src=\"https://colab.research.google.com/assets/colab-badge.svg\" alt=\"Open In Colab\"/></a>"
      ]
    },
    {
      "cell_type": "code",
      "execution_count": 1,
      "metadata": {
        "id": "wedFh1ZSeO_e",
        "outputId": "460d8e86-cefb-4245-e66b-bf362bc0bc93",
        "colab": {
          "base_uri": "https://localhost:8080/",
          "height": 723
        }
      },
      "outputs": [
        {
          "output_type": "stream",
          "name": "stdout",
          "text": [
            "\u001b[33m\r0% [Working]\u001b[0m\r            \rGet:1 https://cloud.r-project.org/bin/linux/ubuntu jammy-cran40/ InRelease [3,632 B]\n",
            "\u001b[33m\r0% [Waiting for headers] [Waiting for headers] [1 InRelease 3,632 B/3,632 B 100\u001b[0m\u001b[33m\r0% [Waiting for headers] [Waiting for headers] [Connected to r2u.stat.illinois.\u001b[0m\r                                                                               \rHit:2 https://developer.download.nvidia.com/compute/cuda/repos/ubuntu2204/x86_64  InRelease\n",
            "\u001b[33m\r0% [Waiting for headers] [Waiting for headers] [Waiting for headers] [Connectin\u001b[0m\r                                                                               \rGet:3 http://security.ubuntu.com/ubuntu jammy-security InRelease [129 kB]\n",
            "\u001b[33m\r0% [Waiting for headers] [3 InRelease 14.2 kB/129 kB 11%] [Waiting for headers]\u001b[0m\r                                                                               \rHit:4 http://archive.ubuntu.com/ubuntu jammy InRelease\n",
            "Get:5 https://r2u.stat.illinois.edu/ubuntu jammy InRelease [6,555 B]\n",
            "Get:6 http://archive.ubuntu.com/ubuntu jammy-updates InRelease [128 kB]\n",
            "Hit:7 https://ppa.launchpadcontent.net/deadsnakes/ppa/ubuntu jammy InRelease\n",
            "Hit:8 https://ppa.launchpadcontent.net/graphics-drivers/ppa/ubuntu jammy InRelease\n",
            "Get:9 http://archive.ubuntu.com/ubuntu jammy-backports InRelease [127 kB]\n",
            "Hit:10 https://ppa.launchpadcontent.net/ubuntugis/ppa/ubuntu jammy InRelease\n",
            "Get:11 https://r2u.stat.illinois.edu/ubuntu jammy/main amd64 Packages [2,686 kB]\n",
            "Get:12 https://r2u.stat.illinois.edu/ubuntu jammy/main all Packages [8,793 kB]\n",
            "Get:13 http://security.ubuntu.com/ubuntu jammy-security/main amd64 Packages [2,773 kB]\n",
            "Get:14 http://security.ubuntu.com/ubuntu jammy-security/universe amd64 Packages [1,241 kB]\n",
            "Get:15 http://security.ubuntu.com/ubuntu jammy-security/restricted amd64 Packages [3,972 kB]\n",
            "Get:16 http://archive.ubuntu.com/ubuntu jammy-updates/restricted amd64 Packages [4,126 kB]\n",
            "Get:17 http://archive.ubuntu.com/ubuntu jammy-updates/universe amd64 Packages [1,540 kB]\n",
            "Get:18 http://archive.ubuntu.com/ubuntu jammy-updates/main amd64 Packages [3,081 kB]\n",
            "Fetched 28.6 MB in 8s (3,655 kB/s)\n",
            "Reading package lists... Done\n",
            "Building dependency tree... Done\n",
            "Reading state information... Done\n",
            "39 packages can be upgraded. Run 'apt list --upgradable' to see them.\n",
            "\u001b[1;33mW: \u001b[0mSkipping acquire of configured file 'main/source/Sources' as repository 'https://r2u.stat.illinois.edu/ubuntu jammy InRelease' does not seem to provide it (sources.list entry misspelt?)\u001b[0m\n",
            "tar: spark-3.2.1-bin-hadoop3.2.tgz: Cannot open: No such file or directory\n",
            "tar: Error is not recoverable: exiting now\n",
            "Requirement already satisfied: pyspark in /usr/local/lib/python3.11/dist-packages (3.5.5)\n",
            "Requirement already satisfied: py4j==0.10.9.7 in /usr/local/lib/python3.11/dist-packages (from pyspark) (0.10.9.7)\n",
            "Requirement already satisfied: py4j in /usr/local/lib/python3.11/dist-packages (0.10.9.7)\n"
          ]
        },
        {
          "output_type": "execute_result",
          "data": {
            "text/plain": [
              "<pyspark.sql.session.SparkSession at 0x7a73e3301c50>"
            ],
            "text/html": [
              "\n",
              "            <div>\n",
              "                <p><b>SparkSession - in-memory</b></p>\n",
              "                \n",
              "        <div>\n",
              "            <p><b>SparkContext</b></p>\n",
              "\n",
              "            <p><a href=\"http://6b4b3ce57d46:4040\">Spark UI</a></p>\n",
              "\n",
              "            <dl>\n",
              "              <dt>Version</dt>\n",
              "                <dd><code>v3.5.5</code></dd>\n",
              "              <dt>Master</dt>\n",
              "                <dd><code>local[*]</code></dd>\n",
              "              <dt>AppName</dt>\n",
              "                <dd><code>OurSparkApp</code></dd>\n",
              "            </dl>\n",
              "        </div>\n",
              "        \n",
              "            </div>\n",
              "        "
            ]
          },
          "metadata": {},
          "execution_count": 1
        }
      ],
      "source": [
        "!sudo apt update\n",
        "!apt-get install openjdk-8-jdk-headless -qq > /dev/null\n",
        "#Check this site for the latest download link https://www.apache.org/dyn/closer.lua/spark/spark-3.2.1/spark-3.2.1-bin-hadoop3.2.tgz\n",
        "!wget -q https://dlcdn.apache.org/spark/spark-3.2.1/spark-3.2.1-bin-hadoop3.2.tgz\n",
        "!tar xf spark-3.2.1-bin-hadoop3.2.tgz\n",
        "!pip install -q findspark\n",
        "!pip install pyspark\n",
        "!pip install py4j\n",
        "\n",
        "import os\n",
        "import sys\n",
        "# os.environ[\"JAVA_HOME\"] = \"/usr/lib/jvm/java-8-openjdk-amd64\"\n",
        "# os.environ[\"SPARK_HOME\"] = \"/content/spark-3.2.1-bin-hadoop3.2\"\n",
        "\n",
        "\n",
        "import findspark\n",
        "findspark.init()\n",
        "findspark.find()\n",
        "\n",
        "import pyspark\n",
        "from pyspark.sql import SparkSession\n",
        "\n",
        "spark= SparkSession \\\n",
        "       .builder \\\n",
        "       .appName(\"OurSparkApp\") \\\n",
        "       .getOrCreate()\n",
        "\n",
        "spark"
      ]
    },
    {
      "cell_type": "markdown",
      "source": [
        "*** Create a file in sample_data with the name \"Context.txt\" **bold text**\n",
        "\n",
        "All information in this manual is based on the latest product information available at the time of publication. Due to continuous\n",
        "improvements, there may be differences between the information provided in this manual and information related\n",
        "to your motorcycle.\n",
        "Always consult an authorized Royal Enfield dealer for the latest specifications, features etc. Royal Enfield reserves the right\n",
        "to make production changes at any time without prior notice and without incurring any obligation to make the same or\n",
        "similar changes to a motorcycle previously built or sold. All images shown are for reference to explain and need not to be\n",
        "exactly the same on the model you own. Accessories and features may not be part of standard equipment. Technical specifications\n",
        "are subject to change without prior notice at the sole discretion of Royal Enfield.\n",
        "Please take care while disassembling and assembling the seats, and sheet metal parts, as any sharp edges will lead to\n",
        "injuries.\n",
        "\n"
      ],
      "metadata": {
        "id": "D8s1pAPMgJ0S"
      }
    },
    {
      "cell_type": "code",
      "source": [
        "from pyspark.sql.functions import split, lower, regexp_replace, explode\n",
        "\n",
        "\n",
        "df = spark.read.text(\"sample_data/Content.txt\")\n",
        "df.show(truncate=False)"
      ],
      "metadata": {
        "id": "V1EAqIOyeb_s",
        "outputId": "5147d5f8-aa1e-42de-a006-76d197828cd9",
        "colab": {
          "base_uri": "https://localhost:8080/"
        }
      },
      "execution_count": 17,
      "outputs": [
        {
          "output_type": "stream",
          "name": "stdout",
          "text": [
            "+---------------------------------------------------------------------------------------------------------------------------------+\n",
            "|value                                                                                                                            |\n",
            "+---------------------------------------------------------------------------------------------------------------------------------+\n",
            "|All information in this manual is based on the latest product information available at the time of publication. Due to continuous|\n",
            "|improvements, there may be differences between the information provided in this manual and information related                   |\n",
            "|to your motorcycle.                                                                                                              |\n",
            "|Always consult an authorized Royal Enfield dealer for the latest specifications, features etc. Royal Enfield reserves the right  |\n",
            "|to make production changes at any time without prior notice and without incurring any obligation to make the same or             |\n",
            "|similar changes to a motorcycle previously built or sold. All images shown are for reference to explain and need not to be       |\n",
            "|exactly the same on the model you own. Accessories and features may not be part of standard equipment. Technical specifications  |\n",
            "|are subject to change without prior notice at the sole discretion of Royal Enfield.                                              |\n",
            "|Please take care while disassembling and assembling the seats, and sheet metal parts, as any sharp edges will lead to            |\n",
            "|injuries.                                                                                                                        |\n",
            "+---------------------------------------------------------------------------------------------------------------------------------+\n",
            "\n"
          ]
        }
      ]
    },
    {
      "cell_type": "code",
      "source": [
        "df_cleaned = df.withColumn( \"clean_text\"\n",
        "                          , lower(regexp_replace(df[\"value\"], \"[^a-zA-Z\\s]\", \"\"))\n",
        "                          )\n",
        "\n",
        "# Tokenize (split into words)\n",
        "df_tokens = df_cleaned.withColumn(\"words\", split(df_cleaned[\"clean_text\"], \"\\s+\"))\n",
        "\n",
        "df_tokens.select(\"words\").show(truncate=False)"
      ],
      "metadata": {
        "id": "QqyIO-Gme31K",
        "outputId": "34734713-5b08-4bb3-f4c1-27972819b0a8",
        "colab": {
          "base_uri": "https://localhost:8080/"
        }
      },
      "execution_count": 18,
      "outputs": [
        {
          "output_type": "stream",
          "name": "stdout",
          "text": [
            "+------------------------------------------------------------------------------------------------------------------------------------------------------+\n",
            "|words                                                                                                                                                 |\n",
            "+------------------------------------------------------------------------------------------------------------------------------------------------------+\n",
            "|[all, information, in, this, manual, is, based, on, the, latest, product, information, available, at, the, time, of, publication, due, to, continuous]|\n",
            "|[improvements, there, may, be, differences, between, the, information, provided, in, this, manual, and, information, related]                         |\n",
            "|[to, your, motorcycle]                                                                                                                                |\n",
            "|[always, consult, an, authorized, royal, enfield, dealer, for, the, latest, specifications, features, etc, royal, enfield, reserves, the, right]      |\n",
            "|[to, make, production, changes, at, any, time, without, prior, notice, and, without, incurring, any, obligation, to, make, the, same, or]             |\n",
            "|[similar, changes, to, a, motorcycle, previously, built, or, sold, all, images, shown, are, for, reference, to, explain, and, need, not, to, be]      |\n",
            "|[exactly, the, same, on, the, model, you, own, accessories, and, features, may, not, be, part, of, standard, equipment, technical, specifications]    |\n",
            "|[are, subject, to, change, without, prior, notice, at, the, sole, discretion, of, royal, enfield]                                                     |\n",
            "|[please, take, care, while, disassembling, and, assembling, the, seats, and, sheet, metal, parts, as, any, sharp, edges, will, lead, to]              |\n",
            "|[injuries]                                                                                                                                            |\n",
            "+------------------------------------------------------------------------------------------------------------------------------------------------------+\n",
            "\n"
          ]
        }
      ]
    },
    {
      "cell_type": "code",
      "source": [
        "df_word_count = (df_tokens\n",
        "                  .select(explode(df_tokens[\"words\"]).alias(\"word\"))\n",
        "                  .groupBy(\"word\").count()\\\n",
        "                  .orderBy(\"count\", ascending=False)\n",
        "                )\n",
        "\n",
        "df_word_count.show()"
      ],
      "metadata": {
        "id": "T8NcE3YhfNTC",
        "outputId": "63bf2b5a-1be3-46dc-baa8-ac5ea28cfe83",
        "colab": {
          "base_uri": "https://localhost:8080/"
        }
      },
      "execution_count": 16,
      "outputs": [
        {
          "output_type": "stream",
          "name": "stdout",
          "text": [
            "+--------------+-----+\n",
            "|          word|count|\n",
            "+--------------+-----+\n",
            "|           the|   10|\n",
            "|            to|    9|\n",
            "|           and|    6|\n",
            "|   information|    4|\n",
            "|            be|    3|\n",
            "|       enfield|    3|\n",
            "|         royal|    3|\n",
            "|       without|    3|\n",
            "|           any|    3|\n",
            "|            of|    3|\n",
            "|            at|    3|\n",
            "|specifications|    2|\n",
            "|           not|    2|\n",
            "|          time|    2|\n",
            "|        latest|    2|\n",
            "|            in|    2|\n",
            "|          make|    2|\n",
            "|    motorcycle|    2|\n",
            "|        manual|    2|\n",
            "|        notice|    2|\n",
            "+--------------+-----+\n",
            "only showing top 20 rows\n",
            "\n"
          ]
        }
      ]
    },
    {
      "cell_type": "code",
      "source": [],
      "metadata": {
        "id": "6FE-z5EffYCL"
      },
      "execution_count": null,
      "outputs": []
    }
  ]
}