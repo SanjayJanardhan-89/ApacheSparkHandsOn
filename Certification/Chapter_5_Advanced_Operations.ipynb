{
  "nbformat": 4,
  "nbformat_minor": 0,
  "metadata": {
    "colab": {
      "provenance": [],
      "toc_visible": true,
      "include_colab_link": true
    },
    "kernelspec": {
      "name": "python3",
      "display_name": "Python 3"
    },
    "language_info": {
      "name": "python"
    }
  },
  "cells": [
    {
      "cell_type": "markdown",
      "metadata": {
        "id": "view-in-github",
        "colab_type": "text"
      },
      "source": [
        "<a href=\"https://colab.research.google.com/github/SanjayJanardhan-89/ApacheSparkHandsOn/blob/main/Certification/Chapter_5_Advanced_Operations.ipynb\" target=\"_parent\"><img src=\"https://colab.research.google.com/assets/colab-badge.svg\" alt=\"Open In Colab\"/></a>"
      ]
    },
    {
      "cell_type": "markdown",
      "source": [],
      "metadata": {
        "id": "WuOZ0C0lhCL4"
      }
    },
    {
      "cell_type": "markdown",
      "source": [
        "# Setup Pyspark\n"
      ],
      "metadata": {
        "id": "vRYFGd5ehHN5"
      }
    },
    {
      "cell_type": "code",
      "execution_count": 1,
      "metadata": {
        "colab": {
          "base_uri": "https://localhost:8080/",
          "height": 790
        },
        "id": "QLc7s-Qo1irp",
        "outputId": "08d089b8-3df2-4079-d315-456891017028"
      },
      "outputs": [
        {
          "output_type": "stream",
          "name": "stdout",
          "text": [
            "\u001b[33m\r0% [Working]\u001b[0m\r            \rHit:1 http://archive.ubuntu.com/ubuntu jammy InRelease\n",
            "\u001b[33m\r0% [Waiting for headers] [Connected to cloud.r-project.org (65.9.86.118)] [Conn\u001b[0m\r                                                                               \rGet:2 http://archive.ubuntu.com/ubuntu jammy-updates InRelease [128 kB]\n",
            "\r                                                                               \rGet:3 http://archive.ubuntu.com/ubuntu jammy-backports InRelease [127 kB]\n",
            "\r                                                                               \rGet:4 http://security.ubuntu.com/ubuntu jammy-security InRelease [129 kB]\n",
            "\r                                                                               \rGet:5 https://cloud.r-project.org/bin/linux/ubuntu jammy-cran40/ InRelease [3,632 B]\n",
            "\r                                                                               \rGet:6 https://developer.download.nvidia.com/compute/cuda/repos/ubuntu2204/x86_64  InRelease [1,581 B]\n",
            "\r                                                                               \rHit:7 https://ppa.launchpadcontent.net/deadsnakes/ppa/ubuntu jammy InRelease\n",
            "\r                                                                               \rHit:8 https://ppa.launchpadcontent.net/graphics-drivers/ppa/ubuntu jammy InRelease\n",
            "Hit:9 https://ppa.launchpadcontent.net/ubuntugis/ppa/ubuntu jammy InRelease\n",
            "Get:10 https://r2u.stat.illinois.edu/ubuntu jammy InRelease [6,555 B]\n",
            "Get:11 http://archive.ubuntu.com/ubuntu jammy-updates/restricted amd64 Packages [4,420 kB]\n",
            "Get:12 http://archive.ubuntu.com/ubuntu jammy-updates/multiverse amd64 Packages [55.7 kB]\n",
            "Get:13 http://archive.ubuntu.com/ubuntu jammy-updates/main amd64 Packages [3,200 kB]\n",
            "Get:14 http://archive.ubuntu.com/ubuntu jammy-updates/universe amd64 Packages [1,544 kB]\n",
            "Get:15 http://security.ubuntu.com/ubuntu jammy-security/universe amd64 Packages [1,244 kB]\n",
            "Get:16 https://cloud.r-project.org/bin/linux/ubuntu jammy-cran40/ Packages [77.5 kB]\n",
            "Get:17 https://developer.download.nvidia.com/compute/cuda/repos/ubuntu2204/x86_64  Packages [1,659 kB]\n",
            "Get:18 https://r2u.stat.illinois.edu/ubuntu jammy/main all Packages [8,910 kB]\n",
            "Get:19 https://r2u.stat.illinois.edu/ubuntu jammy/main amd64 Packages [2,715 kB]\n",
            "Fetched 24.2 MB in 9s (2,665 kB/s)\n",
            "Reading package lists... Done\n",
            "Building dependency tree... Done\n",
            "Reading state information... Done\n",
            "43 packages can be upgraded. Run 'apt list --upgradable' to see them.\n",
            "\u001b[1;33mW: \u001b[0mSkipping acquire of configured file 'main/source/Sources' as repository 'https://r2u.stat.illinois.edu/ubuntu jammy InRelease' does not seem to provide it (sources.list entry misspelt?)\u001b[0m\n",
            "tar: spark-3.2.1-bin-hadoop3.2.tgz: Cannot open: No such file or directory\n",
            "tar: Error is not recoverable: exiting now\n",
            "Requirement already satisfied: pyspark in /usr/local/lib/python3.11/dist-packages (3.5.5)\n",
            "Requirement already satisfied: py4j==0.10.9.7 in /usr/local/lib/python3.11/dist-packages (from pyspark) (0.10.9.7)\n",
            "Requirement already satisfied: py4j in /usr/local/lib/python3.11/dist-packages (0.10.9.7)\n"
          ]
        },
        {
          "output_type": "execute_result",
          "data": {
            "text/plain": [
              "<pyspark.sql.session.SparkSession at 0x78249c264cd0>"
            ],
            "text/html": [
              "\n",
              "            <div>\n",
              "                <p><b>SparkSession - in-memory</b></p>\n",
              "                \n",
              "        <div>\n",
              "            <p><b>SparkContext</b></p>\n",
              "\n",
              "            <p><a href=\"http://696cfacb5b43:4040\">Spark UI</a></p>\n",
              "\n",
              "            <dl>\n",
              "              <dt>Version</dt>\n",
              "                <dd><code>v3.5.5</code></dd>\n",
              "              <dt>Master</dt>\n",
              "                <dd><code>local[*]</code></dd>\n",
              "              <dt>AppName</dt>\n",
              "                <dd><code>OurSparkApp</code></dd>\n",
              "            </dl>\n",
              "        </div>\n",
              "        \n",
              "            </div>\n",
              "        "
            ]
          },
          "metadata": {},
          "execution_count": 1
        }
      ],
      "source": [
        "!sudo apt update\n",
        "!apt-get install openjdk-8-jdk-headless -qq > /dev/null\n",
        "#Check this site for the latest download link https://www.apache.org/dyn/closer.lua/spark/spark-3.2.1/spark-3.2.1-bin-hadoop3.2.tgz\n",
        "!wget -q https://dlcdn.apache.org/spark/spark-3.2.1/spark-3.2.1-bin-hadoop3.2.tgz\n",
        "!tar xf spark-3.2.1-bin-hadoop3.2.tgz\n",
        "!pip install -q findspark\n",
        "!pip install pyspark\n",
        "!pip install py4j\n",
        "\n",
        "import os\n",
        "import sys\n",
        "# os.environ[\"JAVA_HOME\"] = \"/usr/lib/jvm/java-8-openjdk-amd64\"\n",
        "# os.environ[\"SPARK_HOME\"] = \"/content/spark-3.2.1-bin-hadoop3.2\"\n",
        "\n",
        "\n",
        "import findspark\n",
        "findspark.init()\n",
        "findspark.find()\n",
        "\n",
        "import pyspark\n",
        "from pyspark.sql import SparkSession\n",
        "\n",
        "spark= SparkSession \\\n",
        "       .builder \\\n",
        "       .appName(\"OurSparkApp\") \\\n",
        "       .getOrCreate()\n",
        "\n",
        "spark"
      ]
    },
    {
      "cell_type": "code",
      "source": [
        "salary_data = [(\"John\", \"Field-eng\", 3500),\n",
        "    (\"Michael\", \"Field-eng\", 4500),\n",
        "    (\"Robert\", None, 4000),\n",
        "    (\"Maria\", \"Finance\", 3500),\n",
        "    (\"John\", \"Sales\", 3000),\n",
        "    (\"Kelly\", \"Finance\", 3500),\n",
        "    (\"Kate\", \"Finance\", 3000),\n",
        "    (\"Martin\", None, 3500),\n",
        "    (\"Kiran\", \"Sales\", 2200),\n",
        "    (\"Michael\", \"Field-eng\", 4500)\n",
        "  ]\n",
        "columns= [\"Employee\", \"Department\", \"Salary\"]\n",
        "salary_data = spark.createDataFrame(data = salary_data, schema = columns)\n",
        "salary_data.printSchema()\n",
        "salary_data.show()"
      ],
      "metadata": {
        "id": "0oyJX03Hlu8f",
        "outputId": "338f8efc-e2c8-4e87-997b-f401c07b8f52",
        "colab": {
          "base_uri": "https://localhost:8080/"
        }
      },
      "execution_count": 2,
      "outputs": [
        {
          "output_type": "stream",
          "name": "stdout",
          "text": [
            "root\n",
            " |-- Employee: string (nullable = true)\n",
            " |-- Department: string (nullable = true)\n",
            " |-- Salary: long (nullable = true)\n",
            "\n",
            "+--------+----------+------+\n",
            "|Employee|Department|Salary|\n",
            "+--------+----------+------+\n",
            "|    John| Field-eng|  3500|\n",
            "| Michael| Field-eng|  4500|\n",
            "|  Robert|      NULL|  4000|\n",
            "|   Maria|   Finance|  3500|\n",
            "|    John|     Sales|  3000|\n",
            "|   Kelly|   Finance|  3500|\n",
            "|    Kate|   Finance|  3000|\n",
            "|  Martin|      NULL|  3500|\n",
            "|   Kiran|     Sales|  2200|\n",
            "| Michael| Field-eng|  4500|\n",
            "+--------+----------+------+\n",
            "\n"
          ]
        }
      ]
    },
    {
      "cell_type": "code",
      "source": [
        "salary_data.groupBy('Department')"
      ],
      "metadata": {
        "id": "0kBgRSvYlvTM",
        "outputId": "70e8275c-f53f-4d7f-fdcc-e969c95b242d",
        "colab": {
          "base_uri": "https://localhost:8080/"
        }
      },
      "execution_count": 3,
      "outputs": [
        {
          "output_type": "execute_result",
          "data": {
            "text/plain": [
              "GroupedData[grouping expressions: [Department], value: [Employee: string, Department: string ... 1 more field], type: GroupBy]"
            ]
          },
          "metadata": {},
          "execution_count": 3
        }
      ]
    },
    {
      "cell_type": "code",
      "source": [
        "salary_data.groupBy().avg().show()"
      ],
      "metadata": {
        "id": "Xvrrxrbrl7BQ",
        "outputId": "2966a416-0a18-4c46-ee18-a8ed7cd71452",
        "colab": {
          "base_uri": "https://localhost:8080/"
        }
      },
      "execution_count": 6,
      "outputs": [
        {
          "output_type": "stream",
          "name": "stdout",
          "text": [
            "+-----------+\n",
            "|avg(Salary)|\n",
            "+-----------+\n",
            "|     3520.0|\n",
            "+-----------+\n",
            "\n"
          ]
        }
      ]
    },
    {
      "cell_type": "code",
      "source": [
        "salary_data.groupBy('Department').avg().show()"
      ],
      "metadata": {
        "id": "xUGgC1iul9yr",
        "outputId": "8212d547-0901-4a73-c81a-e06ce58db335",
        "colab": {
          "base_uri": "https://localhost:8080/"
        }
      },
      "execution_count": 7,
      "outputs": [
        {
          "output_type": "stream",
          "name": "stdout",
          "text": [
            "+----------+------------------+\n",
            "|Department|       avg(Salary)|\n",
            "+----------+------------------+\n",
            "|     Sales|            2600.0|\n",
            "| Field-eng| 4166.666666666667|\n",
            "|      NULL|            3750.0|\n",
            "|   Finance|3333.3333333333335|\n",
            "+----------+------------------+\n",
            "\n"
          ]
        }
      ]
    },
    {
      "cell_type": "code",
      "source": [
        "from pyspark.sql.functions import lit\n",
        "salary_data = salary_data.withColumn('AnotherCol', lit(100))"
      ],
      "metadata": {
        "id": "_ah36xOgmFhD"
      },
      "execution_count": 11,
      "outputs": []
    },
    {
      "cell_type": "code",
      "source": [
        "salary_data.groupBy('Department').avg().show()"
      ],
      "metadata": {
        "id": "YeruKg7vmKkK",
        "outputId": "bb3e586f-44ef-4f40-b382-0f0afaf744af",
        "colab": {
          "base_uri": "https://localhost:8080/"
        }
      },
      "execution_count": 12,
      "outputs": [
        {
          "output_type": "stream",
          "name": "stdout",
          "text": [
            "+----------+------------------+---------------+\n",
            "|Department|       avg(Salary)|avg(AnotherCol)|\n",
            "+----------+------------------+---------------+\n",
            "|     Sales|            2600.0|          100.0|\n",
            "| Field-eng| 4166.666666666667|          100.0|\n",
            "|      NULL|            3750.0|          100.0|\n",
            "|   Finance|3333.3333333333335|          100.0|\n",
            "+----------+------------------+---------------+\n",
            "\n"
          ]
        }
      ]
    },
    {
      "cell_type": "code",
      "source": [
        "salary_data = salary_data.drop('AnotherCol')"
      ],
      "metadata": {
        "id": "Wdin2EabmOl1"
      },
      "execution_count": 15,
      "outputs": []
    },
    {
      "cell_type": "code",
      "source": [
        "salary_data.show()"
      ],
      "metadata": {
        "id": "sGqH-FWsmYjG",
        "outputId": "d9c177c2-4516-403b-b579-3a68b26322e7",
        "colab": {
          "base_uri": "https://localhost:8080/"
        }
      },
      "execution_count": 16,
      "outputs": [
        {
          "output_type": "stream",
          "name": "stdout",
          "text": [
            "+--------+----------+------+\n",
            "|Employee|Department|Salary|\n",
            "+--------+----------+------+\n",
            "|    John| Field-eng|  3500|\n",
            "| Michael| Field-eng|  4500|\n",
            "|  Robert|      NULL|  4000|\n",
            "|   Maria|   Finance|  3500|\n",
            "|    John|     Sales|  3000|\n",
            "|   Kelly|   Finance|  3500|\n",
            "|    Kate|   Finance|  3000|\n",
            "|  Martin|      NULL|  3500|\n",
            "|   Kiran|     Sales|  2200|\n",
            "| Michael| Field-eng|  4500|\n",
            "+--------+----------+------+\n",
            "\n"
          ]
        }
      ]
    },
    {
      "cell_type": "code",
      "source": [
        "from pyspark.sql.functions import *\n",
        "\n",
        "(salary_data\n",
        "  .groupBy(\"Department\").sum(\"salary\")\n",
        "  .withColumn(\"sum(salary)\", round(col(\"sum(salary)\"),4))\n",
        "  .withColumnRenamed(\"sum(salary)\", \"sum_salary\")\n",
        "  .orderBy(desc(\"sum_salary\"))\n",
        "  .show()\n",
        ")"
      ],
      "metadata": {
        "id": "KCZYGdElmaGK",
        "outputId": "8f536037-4b1a-47fa-b9b4-bc498138f563",
        "colab": {
          "base_uri": "https://localhost:8080/"
        }
      },
      "execution_count": 25,
      "outputs": [
        {
          "output_type": "stream",
          "name": "stdout",
          "text": [
            "+----------+----------+\n",
            "|Department|sum_salary|\n",
            "+----------+----------+\n",
            "| Field-eng|     12500|\n",
            "|   Finance|     10000|\n",
            "|      NULL|      7500|\n",
            "|     Sales|      5200|\n",
            "+----------+----------+\n",
            "\n"
          ]
        }
      ]
    },
    {
      "cell_type": "code",
      "source": [],
      "metadata": {
        "id": "x4gburxBmsI7"
      },
      "execution_count": null,
      "outputs": []
    }
  ]
}