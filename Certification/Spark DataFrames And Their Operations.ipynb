{
  "nbformat": 4,
  "nbformat_minor": 0,
  "metadata": {
    "colab": {
      "provenance": [],
      "toc_visible": true,
      "include_colab_link": true
    },
    "kernelspec": {
      "name": "python3",
      "display_name": "Python 3"
    },
    "language_info": {
      "name": "python"
    }
  },
  "cells": [
    {
      "cell_type": "markdown",
      "metadata": {
        "id": "view-in-github",
        "colab_type": "text"
      },
      "source": [
        "<a href=\"https://colab.research.google.com/github/SanjayJanardhan-89/ApacheSparkHandsOn/blob/main/Certification/Spark%20DataFrames%20And%20Their%20Operations.ipynb\" target=\"_parent\"><img src=\"https://colab.research.google.com/assets/colab-badge.svg\" alt=\"Open In Colab\"/></a>"
      ]
    },
    {
      "cell_type": "markdown",
      "source": [],
      "metadata": {
        "id": "WuOZ0C0lhCL4"
      }
    },
    {
      "cell_type": "markdown",
      "source": [
        "# Setup Pyspark\n"
      ],
      "metadata": {
        "id": "vRYFGd5ehHN5"
      }
    },
    {
      "cell_type": "code",
      "execution_count": 1,
      "metadata": {
        "colab": {
          "base_uri": "https://localhost:8080/",
          "height": 772
        },
        "id": "QLc7s-Qo1irp",
        "outputId": "a018e2c8-7af2-43f2-d9ab-e77543a1e478"
      },
      "outputs": [
        {
          "output_type": "stream",
          "name": "stdout",
          "text": [
            "Hit:1 http://archive.ubuntu.com/ubuntu jammy InRelease\n",
            "Get:2 http://archive.ubuntu.com/ubuntu jammy-updates InRelease [128 kB]\n",
            "Get:3 http://security.ubuntu.com/ubuntu jammy-security InRelease [129 kB]\n",
            "Get:4 https://cloud.r-project.org/bin/linux/ubuntu jammy-cran40/ InRelease [3,632 B]\n",
            "Get:5 https://developer.download.nvidia.com/compute/cuda/repos/ubuntu2204/x86_64  InRelease [1,581 B]\n",
            "Get:6 http://archive.ubuntu.com/ubuntu jammy-backports InRelease [127 kB]\n",
            "Get:7 https://r2u.stat.illinois.edu/ubuntu jammy InRelease [6,555 B]\n",
            "Hit:8 https://ppa.launchpadcontent.net/deadsnakes/ppa/ubuntu jammy InRelease\n",
            "Hit:9 https://ppa.launchpadcontent.net/graphics-drivers/ppa/ubuntu jammy InRelease\n",
            "Get:10 http://security.ubuntu.com/ubuntu jammy-security/universe amd64 Packages [1,244 kB]\n",
            "Hit:11 https://ppa.launchpadcontent.net/ubuntugis/ppa/ubuntu jammy InRelease\n",
            "Get:12 https://developer.download.nvidia.com/compute/cuda/repos/ubuntu2204/x86_64  Packages [1,659 kB]\n",
            "Get:13 http://archive.ubuntu.com/ubuntu jammy-updates/main amd64 Packages [3,200 kB]\n",
            "Get:14 http://archive.ubuntu.com/ubuntu jammy-updates/restricted amd64 Packages [4,420 kB]\n",
            "Get:15 http://archive.ubuntu.com/ubuntu jammy-updates/universe amd64 Packages [1,544 kB]\n",
            "Get:16 http://archive.ubuntu.com/ubuntu jammy-updates/multiverse amd64 Packages [55.7 kB]\n",
            "Get:17 https://r2u.stat.illinois.edu/ubuntu jammy/main amd64 Packages [2,718 kB]\n",
            "Get:18 https://r2u.stat.illinois.edu/ubuntu jammy/main all Packages [8,907 kB]\n",
            "Fetched 24.1 MB in 8s (3,208 kB/s)\n",
            "Reading package lists... Done\n",
            "Building dependency tree... Done\n",
            "Reading state information... Done\n",
            "39 packages can be upgraded. Run 'apt list --upgradable' to see them.\n",
            "\u001b[1;33mW: \u001b[0mSkipping acquire of configured file 'main/source/Sources' as repository 'https://r2u.stat.illinois.edu/ubuntu jammy InRelease' does not seem to provide it (sources.list entry misspelt?)\u001b[0m\n",
            "tar: spark-3.2.1-bin-hadoop3.2.tgz: Cannot open: No such file or directory\n",
            "tar: Error is not recoverable: exiting now\n",
            "Requirement already satisfied: pyspark in /usr/local/lib/python3.11/dist-packages (3.5.5)\n",
            "Requirement already satisfied: py4j==0.10.9.7 in /usr/local/lib/python3.11/dist-packages (from pyspark) (0.10.9.7)\n",
            "Requirement already satisfied: py4j in /usr/local/lib/python3.11/dist-packages (0.10.9.7)\n"
          ]
        },
        {
          "output_type": "execute_result",
          "data": {
            "text/plain": [
              "<pyspark.sql.session.SparkSession at 0x7a6820b46410>"
            ],
            "text/html": [
              "\n",
              "            <div>\n",
              "                <p><b>SparkSession - in-memory</b></p>\n",
              "                \n",
              "        <div>\n",
              "            <p><b>SparkContext</b></p>\n",
              "\n",
              "            <p><a href=\"http://5cb8de9798d0:4040\">Spark UI</a></p>\n",
              "\n",
              "            <dl>\n",
              "              <dt>Version</dt>\n",
              "                <dd><code>v3.5.5</code></dd>\n",
              "              <dt>Master</dt>\n",
              "                <dd><code>local[*]</code></dd>\n",
              "              <dt>AppName</dt>\n",
              "                <dd><code>OurSparkApp</code></dd>\n",
              "            </dl>\n",
              "        </div>\n",
              "        \n",
              "            </div>\n",
              "        "
            ]
          },
          "metadata": {},
          "execution_count": 1
        }
      ],
      "source": [
        "!sudo apt update\n",
        "!apt-get install openjdk-8-jdk-headless -qq > /dev/null\n",
        "#Check this site for the latest download link https://www.apache.org/dyn/closer.lua/spark/spark-3.2.1/spark-3.2.1-bin-hadoop3.2.tgz\n",
        "!wget -q https://dlcdn.apache.org/spark/spark-3.2.1/spark-3.2.1-bin-hadoop3.2.tgz\n",
        "!tar xf spark-3.2.1-bin-hadoop3.2.tgz\n",
        "!pip install -q findspark\n",
        "!pip install pyspark\n",
        "!pip install py4j\n",
        "\n",
        "import os\n",
        "import sys\n",
        "# os.environ[\"JAVA_HOME\"] = \"/usr/lib/jvm/java-8-openjdk-amd64\"\n",
        "# os.environ[\"SPARK_HOME\"] = \"/content/spark-3.2.1-bin-hadoop3.2\"\n",
        "\n",
        "\n",
        "import findspark\n",
        "findspark.init()\n",
        "findspark.find()\n",
        "\n",
        "import pyspark\n",
        "from pyspark.sql import SparkSession\n",
        "\n",
        "spark= SparkSession \\\n",
        "       .builder \\\n",
        "       .appName(\"OurSparkApp\") \\\n",
        "       .getOrCreate()\n",
        "\n",
        "spark"
      ]
    },
    {
      "cell_type": "code",
      "source": [
        "from datetime import datetime, date\n",
        "from pyspark.sql import SparkSession\n",
        "spark = SparkSession.builder.getOrCreate()\n",
        "rdd = spark.sparkContext.parallelize([\n",
        "    (100, 200., 'string_test_1', date(2023, 1, 1), datetime(2023, 1, 1, 12, 0)),\n",
        "    (200, 300., 'string_test_2', date(2023, 2, 1), datetime(2023, 1, 2, 12, 0)),\n",
        "    (300, 400., 'string_test_3', date(2023, 3, 1), datetime(2023, 1, 3, 12, 0))\n",
        "])\n",
        "data_df = spark.createDataFrame(rdd, schema=['col_1', 'col_2', 'col_3', 'col_4', 'col_5'])\n",
        "data_df"
      ],
      "metadata": {
        "id": "CWDHGRxjMkBp",
        "outputId": "32f99fe0-3f41-4198-d58c-3988703d48a2",
        "colab": {
          "base_uri": "https://localhost:8080/"
        }
      },
      "execution_count": 38,
      "outputs": [
        {
          "output_type": "execute_result",
          "data": {
            "text/plain": [
              "DataFrame[col_1: bigint, col_2: double, col_3: string, col_4: date, col_5: timestamp]"
            ]
          },
          "metadata": {},
          "execution_count": 38
        }
      ]
    },
    {
      "cell_type": "code",
      "source": [
        "data_df.show()"
      ],
      "metadata": {
        "id": "9MPOUYndMnYH",
        "outputId": "9b6c59f0-3769-482a-bb9e-619499f23759",
        "colab": {
          "base_uri": "https://localhost:8080/"
        }
      },
      "execution_count": 39,
      "outputs": [
        {
          "output_type": "stream",
          "name": "stdout",
          "text": [
            "+-----+-----+-------------+----------+-------------------+\n",
            "|col_1|col_2|        col_3|     col_4|              col_5|\n",
            "+-----+-----+-------------+----------+-------------------+\n",
            "|  100|200.0|string_test_1|2023-01-01|2023-01-01 12:00:00|\n",
            "|  200|300.0|string_test_2|2023-02-01|2023-01-02 12:00:00|\n",
            "|  300|400.0|string_test_3|2023-03-01|2023-01-03 12:00:00|\n",
            "+-----+-----+-------------+----------+-------------------+\n",
            "\n"
          ]
        }
      ]
    },
    {
      "cell_type": "code",
      "source": [
        "data_df.show(2)"
      ],
      "metadata": {
        "id": "ueK6k6vjM30h",
        "outputId": "ad3926d0-58ed-4a6a-dd30-e732e8802a8d",
        "colab": {
          "base_uri": "https://localhost:8080/"
        }
      },
      "execution_count": 5,
      "outputs": [
        {
          "output_type": "stream",
          "name": "stdout",
          "text": [
            "+-----+-----+-------------+----------+-------------------+\n",
            "|col_1|col_2|        col_3|     col_4|              col_5|\n",
            "+-----+-----+-------------+----------+-------------------+\n",
            "|  100|200.0|string_test_1|2023-01-01|2023-01-01 12:00:00|\n",
            "|  200|300.0|string_test_2|2023-02-01|2023-01-02 12:00:00|\n",
            "+-----+-----+-------------+----------+-------------------+\n",
            "only showing top 2 rows\n",
            "\n"
          ]
        }
      ]
    },
    {
      "cell_type": "code",
      "source": [
        "data_df.collect()"
      ],
      "metadata": {
        "id": "fno32UJeM8jV",
        "outputId": "fedefd17-3272-4136-b16c-26f53e80184a",
        "colab": {
          "base_uri": "https://localhost:8080/"
        }
      },
      "execution_count": 6,
      "outputs": [
        {
          "output_type": "execute_result",
          "data": {
            "text/plain": [
              "[Row(col_1=100, col_2=200.0, col_3='string_test_1', col_4=datetime.date(2023, 1, 1), col_5=datetime.datetime(2023, 1, 1, 12, 0)),\n",
              " Row(col_1=200, col_2=300.0, col_3='string_test_2', col_4=datetime.date(2023, 2, 1), col_5=datetime.datetime(2023, 1, 2, 12, 0)),\n",
              " Row(col_1=300, col_2=400.0, col_3='string_test_3', col_4=datetime.date(2023, 3, 1), col_5=datetime.datetime(2023, 1, 3, 12, 0))]"
            ]
          },
          "metadata": {},
          "execution_count": 6
        }
      ]
    },
    {
      "cell_type": "code",
      "source": [
        "data_df.take(2)"
      ],
      "metadata": {
        "id": "xPF8q8oiNDbP",
        "outputId": "d5b0590f-82de-44fb-e007-aecb96f435d8",
        "colab": {
          "base_uri": "https://localhost:8080/"
        }
      },
      "execution_count": 11,
      "outputs": [
        {
          "output_type": "execute_result",
          "data": {
            "text/plain": [
              "[Row(col_1=100, col_2=200.0, col_3='string_test_1', col_4=datetime.date(2023, 1, 1), col_5=datetime.datetime(2023, 1, 1, 12, 0)),\n",
              " Row(col_1=200, col_2=300.0, col_3='string_test_2', col_4=datetime.date(2023, 2, 1), col_5=datetime.datetime(2023, 1, 2, 12, 0))]"
            ]
          },
          "metadata": {},
          "execution_count": 11
        }
      ]
    },
    {
      "cell_type": "code",
      "source": [
        "data_df.tail(1)"
      ],
      "metadata": {
        "id": "4bD9_Jb_RChn",
        "outputId": "23dd2e8b-4a94-41db-ac1a-c70dbf532abd",
        "colab": {
          "base_uri": "https://localhost:8080/"
        }
      },
      "execution_count": 8,
      "outputs": [
        {
          "output_type": "execute_result",
          "data": {
            "text/plain": [
              "[Row(col_1=300, col_2=400.0, col_3='string_test_3', col_4=datetime.date(2023, 3, 1), col_5=datetime.datetime(2023, 1, 3, 12, 0))]"
            ]
          },
          "metadata": {},
          "execution_count": 8
        }
      ]
    },
    {
      "cell_type": "code",
      "source": [
        "data_df.head()"
      ],
      "metadata": {
        "id": "8jlhkTrQTEn-",
        "outputId": "1aff964c-eb0e-44e4-d01e-01c7bfc75785",
        "colab": {
          "base_uri": "https://localhost:8080/"
        }
      },
      "execution_count": 40,
      "outputs": [
        {
          "output_type": "execute_result",
          "data": {
            "text/plain": [
              "Row(col_1=100, col_2=200.0, col_3='string_test_1', col_4=datetime.date(2023, 1, 1), col_5=datetime.datetime(2023, 1, 1, 12, 0))"
            ]
          },
          "metadata": {},
          "execution_count": 40
        }
      ]
    },
    {
      "cell_type": "markdown",
      "source": [
        "In summary,\n",
        "- take and collect are used to retrieve data elements,\n",
        "  - take being more suitable for small subsets and\n",
        "  - collect for retrieving all data (with caution).\n",
        "- show is used for visual inspection\n",
        "  - head retrieves the first rows as Row objects, and\n",
        "  - tail retrieves the last rows of the dataset.\n",
        "  \n",
        "Each method serves different purposes and should be chosen based on the specific requirements of the data analysis task."
      ],
      "metadata": {
        "id": "wZNlkgpfR04o"
      }
    },
    {
      "cell_type": "code",
      "source": [
        "data_df.toPandas()"
      ],
      "metadata": {
        "id": "JIiI6nUgThko",
        "outputId": "6beb8abb-5a86-4460-b404-8bf0ed03b670",
        "colab": {
          "base_uri": "https://localhost:8080/",
          "height": 143
        }
      },
      "execution_count": 16,
      "outputs": [
        {
          "output_type": "execute_result",
          "data": {
            "text/plain": [
              "   col_1  col_2          col_3       col_4               col_5\n",
              "0    100  200.0  string_test_1  2023-01-01 2023-01-01 12:00:00\n",
              "1    200  300.0  string_test_2  2023-02-01 2023-01-02 12:00:00\n",
              "2    300  400.0  string_test_3  2023-03-01 2023-01-03 12:00:00"
            ],
            "text/html": [
              "\n",
              "  <div id=\"df-7356d815-8e32-4e50-8efd-c5a71ec58c2e\" class=\"colab-df-container\">\n",
              "    <div>\n",
              "<style scoped>\n",
              "    .dataframe tbody tr th:only-of-type {\n",
              "        vertical-align: middle;\n",
              "    }\n",
              "\n",
              "    .dataframe tbody tr th {\n",
              "        vertical-align: top;\n",
              "    }\n",
              "\n",
              "    .dataframe thead th {\n",
              "        text-align: right;\n",
              "    }\n",
              "</style>\n",
              "<table border=\"1\" class=\"dataframe\">\n",
              "  <thead>\n",
              "    <tr style=\"text-align: right;\">\n",
              "      <th></th>\n",
              "      <th>col_1</th>\n",
              "      <th>col_2</th>\n",
              "      <th>col_3</th>\n",
              "      <th>col_4</th>\n",
              "      <th>col_5</th>\n",
              "    </tr>\n",
              "  </thead>\n",
              "  <tbody>\n",
              "    <tr>\n",
              "      <th>0</th>\n",
              "      <td>100</td>\n",
              "      <td>200.0</td>\n",
              "      <td>string_test_1</td>\n",
              "      <td>2023-01-01</td>\n",
              "      <td>2023-01-01 12:00:00</td>\n",
              "    </tr>\n",
              "    <tr>\n",
              "      <th>1</th>\n",
              "      <td>200</td>\n",
              "      <td>300.0</td>\n",
              "      <td>string_test_2</td>\n",
              "      <td>2023-02-01</td>\n",
              "      <td>2023-01-02 12:00:00</td>\n",
              "    </tr>\n",
              "    <tr>\n",
              "      <th>2</th>\n",
              "      <td>300</td>\n",
              "      <td>400.0</td>\n",
              "      <td>string_test_3</td>\n",
              "      <td>2023-03-01</td>\n",
              "      <td>2023-01-03 12:00:00</td>\n",
              "    </tr>\n",
              "  </tbody>\n",
              "</table>\n",
              "</div>\n",
              "    <div class=\"colab-df-buttons\">\n",
              "\n",
              "  <div class=\"colab-df-container\">\n",
              "    <button class=\"colab-df-convert\" onclick=\"convertToInteractive('df-7356d815-8e32-4e50-8efd-c5a71ec58c2e')\"\n",
              "            title=\"Convert this dataframe to an interactive table.\"\n",
              "            style=\"display:none;\">\n",
              "\n",
              "  <svg xmlns=\"http://www.w3.org/2000/svg\" height=\"24px\" viewBox=\"0 -960 960 960\">\n",
              "    <path d=\"M120-120v-720h720v720H120Zm60-500h600v-160H180v160Zm220 220h160v-160H400v160Zm0 220h160v-160H400v160ZM180-400h160v-160H180v160Zm440 0h160v-160H620v160ZM180-180h160v-160H180v160Zm440 0h160v-160H620v160Z\"/>\n",
              "  </svg>\n",
              "    </button>\n",
              "\n",
              "  <style>\n",
              "    .colab-df-container {\n",
              "      display:flex;\n",
              "      gap: 12px;\n",
              "    }\n",
              "\n",
              "    .colab-df-convert {\n",
              "      background-color: #E8F0FE;\n",
              "      border: none;\n",
              "      border-radius: 50%;\n",
              "      cursor: pointer;\n",
              "      display: none;\n",
              "      fill: #1967D2;\n",
              "      height: 32px;\n",
              "      padding: 0 0 0 0;\n",
              "      width: 32px;\n",
              "    }\n",
              "\n",
              "    .colab-df-convert:hover {\n",
              "      background-color: #E2EBFA;\n",
              "      box-shadow: 0px 1px 2px rgba(60, 64, 67, 0.3), 0px 1px 3px 1px rgba(60, 64, 67, 0.15);\n",
              "      fill: #174EA6;\n",
              "    }\n",
              "\n",
              "    .colab-df-buttons div {\n",
              "      margin-bottom: 4px;\n",
              "    }\n",
              "\n",
              "    [theme=dark] .colab-df-convert {\n",
              "      background-color: #3B4455;\n",
              "      fill: #D2E3FC;\n",
              "    }\n",
              "\n",
              "    [theme=dark] .colab-df-convert:hover {\n",
              "      background-color: #434B5C;\n",
              "      box-shadow: 0px 1px 3px 1px rgba(0, 0, 0, 0.15);\n",
              "      filter: drop-shadow(0px 1px 2px rgba(0, 0, 0, 0.3));\n",
              "      fill: #FFFFFF;\n",
              "    }\n",
              "  </style>\n",
              "\n",
              "    <script>\n",
              "      const buttonEl =\n",
              "        document.querySelector('#df-7356d815-8e32-4e50-8efd-c5a71ec58c2e button.colab-df-convert');\n",
              "      buttonEl.style.display =\n",
              "        google.colab.kernel.accessAllowed ? 'block' : 'none';\n",
              "\n",
              "      async function convertToInteractive(key) {\n",
              "        const element = document.querySelector('#df-7356d815-8e32-4e50-8efd-c5a71ec58c2e');\n",
              "        const dataTable =\n",
              "          await google.colab.kernel.invokeFunction('convertToInteractive',\n",
              "                                                    [key], {});\n",
              "        if (!dataTable) return;\n",
              "\n",
              "        const docLinkHtml = 'Like what you see? Visit the ' +\n",
              "          '<a target=\"_blank\" href=https://colab.research.google.com/notebooks/data_table.ipynb>data table notebook</a>'\n",
              "          + ' to learn more about interactive tables.';\n",
              "        element.innerHTML = '';\n",
              "        dataTable['output_type'] = 'display_data';\n",
              "        await google.colab.output.renderOutput(dataTable, element);\n",
              "        const docLink = document.createElement('div');\n",
              "        docLink.innerHTML = docLinkHtml;\n",
              "        element.appendChild(docLink);\n",
              "      }\n",
              "    </script>\n",
              "  </div>\n",
              "\n",
              "\n",
              "    <div id=\"df-4dba17a1-900b-4151-b732-9c78e23f37d3\">\n",
              "      <button class=\"colab-df-quickchart\" onclick=\"quickchart('df-4dba17a1-900b-4151-b732-9c78e23f37d3')\"\n",
              "                title=\"Suggest charts\"\n",
              "                style=\"display:none;\">\n",
              "\n",
              "<svg xmlns=\"http://www.w3.org/2000/svg\" height=\"24px\"viewBox=\"0 0 24 24\"\n",
              "     width=\"24px\">\n",
              "    <g>\n",
              "        <path d=\"M19 3H5c-1.1 0-2 .9-2 2v14c0 1.1.9 2 2 2h14c1.1 0 2-.9 2-2V5c0-1.1-.9-2-2-2zM9 17H7v-7h2v7zm4 0h-2V7h2v10zm4 0h-2v-4h2v4z\"/>\n",
              "    </g>\n",
              "</svg>\n",
              "      </button>\n",
              "\n",
              "<style>\n",
              "  .colab-df-quickchart {\n",
              "      --bg-color: #E8F0FE;\n",
              "      --fill-color: #1967D2;\n",
              "      --hover-bg-color: #E2EBFA;\n",
              "      --hover-fill-color: #174EA6;\n",
              "      --disabled-fill-color: #AAA;\n",
              "      --disabled-bg-color: #DDD;\n",
              "  }\n",
              "\n",
              "  [theme=dark] .colab-df-quickchart {\n",
              "      --bg-color: #3B4455;\n",
              "      --fill-color: #D2E3FC;\n",
              "      --hover-bg-color: #434B5C;\n",
              "      --hover-fill-color: #FFFFFF;\n",
              "      --disabled-bg-color: #3B4455;\n",
              "      --disabled-fill-color: #666;\n",
              "  }\n",
              "\n",
              "  .colab-df-quickchart {\n",
              "    background-color: var(--bg-color);\n",
              "    border: none;\n",
              "    border-radius: 50%;\n",
              "    cursor: pointer;\n",
              "    display: none;\n",
              "    fill: var(--fill-color);\n",
              "    height: 32px;\n",
              "    padding: 0;\n",
              "    width: 32px;\n",
              "  }\n",
              "\n",
              "  .colab-df-quickchart:hover {\n",
              "    background-color: var(--hover-bg-color);\n",
              "    box-shadow: 0 1px 2px rgba(60, 64, 67, 0.3), 0 1px 3px 1px rgba(60, 64, 67, 0.15);\n",
              "    fill: var(--button-hover-fill-color);\n",
              "  }\n",
              "\n",
              "  .colab-df-quickchart-complete:disabled,\n",
              "  .colab-df-quickchart-complete:disabled:hover {\n",
              "    background-color: var(--disabled-bg-color);\n",
              "    fill: var(--disabled-fill-color);\n",
              "    box-shadow: none;\n",
              "  }\n",
              "\n",
              "  .colab-df-spinner {\n",
              "    border: 2px solid var(--fill-color);\n",
              "    border-color: transparent;\n",
              "    border-bottom-color: var(--fill-color);\n",
              "    animation:\n",
              "      spin 1s steps(1) infinite;\n",
              "  }\n",
              "\n",
              "  @keyframes spin {\n",
              "    0% {\n",
              "      border-color: transparent;\n",
              "      border-bottom-color: var(--fill-color);\n",
              "      border-left-color: var(--fill-color);\n",
              "    }\n",
              "    20% {\n",
              "      border-color: transparent;\n",
              "      border-left-color: var(--fill-color);\n",
              "      border-top-color: var(--fill-color);\n",
              "    }\n",
              "    30% {\n",
              "      border-color: transparent;\n",
              "      border-left-color: var(--fill-color);\n",
              "      border-top-color: var(--fill-color);\n",
              "      border-right-color: var(--fill-color);\n",
              "    }\n",
              "    40% {\n",
              "      border-color: transparent;\n",
              "      border-right-color: var(--fill-color);\n",
              "      border-top-color: var(--fill-color);\n",
              "    }\n",
              "    60% {\n",
              "      border-color: transparent;\n",
              "      border-right-color: var(--fill-color);\n",
              "    }\n",
              "    80% {\n",
              "      border-color: transparent;\n",
              "      border-right-color: var(--fill-color);\n",
              "      border-bottom-color: var(--fill-color);\n",
              "    }\n",
              "    90% {\n",
              "      border-color: transparent;\n",
              "      border-bottom-color: var(--fill-color);\n",
              "    }\n",
              "  }\n",
              "</style>\n",
              "\n",
              "      <script>\n",
              "        async function quickchart(key) {\n",
              "          const quickchartButtonEl =\n",
              "            document.querySelector('#' + key + ' button');\n",
              "          quickchartButtonEl.disabled = true;  // To prevent multiple clicks.\n",
              "          quickchartButtonEl.classList.add('colab-df-spinner');\n",
              "          try {\n",
              "            const charts = await google.colab.kernel.invokeFunction(\n",
              "                'suggestCharts', [key], {});\n",
              "          } catch (error) {\n",
              "            console.error('Error during call to suggestCharts:', error);\n",
              "          }\n",
              "          quickchartButtonEl.classList.remove('colab-df-spinner');\n",
              "          quickchartButtonEl.classList.add('colab-df-quickchart-complete');\n",
              "        }\n",
              "        (() => {\n",
              "          let quickchartButtonEl =\n",
              "            document.querySelector('#df-4dba17a1-900b-4151-b732-9c78e23f37d3 button');\n",
              "          quickchartButtonEl.style.display =\n",
              "            google.colab.kernel.accessAllowed ? 'block' : 'none';\n",
              "        })();\n",
              "      </script>\n",
              "    </div>\n",
              "\n",
              "    </div>\n",
              "  </div>\n"
            ],
            "application/vnd.google.colaboratory.intrinsic+json": {
              "type": "dataframe",
              "summary": "{\n  \"name\": \"data_df\",\n  \"rows\": 3,\n  \"fields\": [\n    {\n      \"column\": \"col_1\",\n      \"properties\": {\n        \"dtype\": \"number\",\n        \"std\": 100,\n        \"min\": 100,\n        \"max\": 300,\n        \"num_unique_values\": 3,\n        \"samples\": [\n          100,\n          200,\n          300\n        ],\n        \"semantic_type\": \"\",\n        \"description\": \"\"\n      }\n    },\n    {\n      \"column\": \"col_2\",\n      \"properties\": {\n        \"dtype\": \"number\",\n        \"std\": 100.0,\n        \"min\": 200.0,\n        \"max\": 400.0,\n        \"num_unique_values\": 3,\n        \"samples\": [\n          200.0,\n          300.0,\n          400.0\n        ],\n        \"semantic_type\": \"\",\n        \"description\": \"\"\n      }\n    },\n    {\n      \"column\": \"col_3\",\n      \"properties\": {\n        \"dtype\": \"string\",\n        \"num_unique_values\": 3,\n        \"samples\": [\n          \"string_test_1\",\n          \"string_test_2\",\n          \"string_test_3\"\n        ],\n        \"semantic_type\": \"\",\n        \"description\": \"\"\n      }\n    },\n    {\n      \"column\": \"col_4\",\n      \"properties\": {\n        \"dtype\": \"date\",\n        \"min\": \"2023-01-01\",\n        \"max\": \"2023-03-01\",\n        \"num_unique_values\": 3,\n        \"samples\": [\n          \"2023-01-01\",\n          \"2023-02-01\",\n          \"2023-03-01\"\n        ],\n        \"semantic_type\": \"\",\n        \"description\": \"\"\n      }\n    },\n    {\n      \"column\": \"col_5\",\n      \"properties\": {\n        \"dtype\": \"date\",\n        \"min\": \"2023-01-01 12:00:00\",\n        \"max\": \"2023-01-03 12:00:00\",\n        \"num_unique_values\": 3,\n        \"samples\": [\n          \"2023-01-01 12:00:00\",\n          \"2023-01-02 12:00:00\",\n          \"2023-01-03 12:00:00\"\n        ],\n        \"semantic_type\": \"\",\n        \"description\": \"\"\n      }\n    }\n  ]\n}"
            }
          },
          "metadata": {},
          "execution_count": 16
        }
      ]
    },
    {
      "cell_type": "code",
      "source": [
        "from pyspark.sql import column, functions as F\n",
        "\n",
        "data_df.select(data_df.col_3).show()\n",
        "data_df.select(\"col_3\").show()\n",
        "data_df.select(data_df[\"col_3\"]).show()"
      ],
      "metadata": {
        "id": "bcXYWFRkUJNX",
        "outputId": "36b471c9-48b5-49a9-ae40-dda596d0a60a",
        "colab": {
          "base_uri": "https://localhost:8080/"
        }
      },
      "execution_count": 41,
      "outputs": [
        {
          "output_type": "stream",
          "name": "stdout",
          "text": [
            "+-------------+\n",
            "|        col_3|\n",
            "+-------------+\n",
            "|string_test_1|\n",
            "|string_test_2|\n",
            "|string_test_3|\n",
            "+-------------+\n",
            "\n",
            "+-------------+\n",
            "|        col_3|\n",
            "+-------------+\n",
            "|string_test_1|\n",
            "|string_test_2|\n",
            "|string_test_3|\n",
            "+-------------+\n",
            "\n",
            "+-------------+\n",
            "|        col_3|\n",
            "+-------------+\n",
            "|string_test_1|\n",
            "|string_test_2|\n",
            "|string_test_3|\n",
            "+-------------+\n",
            "\n"
          ]
        }
      ]
    },
    {
      "cell_type": "code",
      "source": [
        "data_df = data_df.withColumn(\"new_col_1\", data_df[\"col_1\"])\n",
        "data_df = data_df.withColumn(\"new_col_2\", F.lit(\"A\"))\n",
        "data_df.show()"
      ],
      "metadata": {
        "id": "THZnpDuGUP03",
        "outputId": "9b46135a-74c0-42a7-d410-00e0fbe8a15d",
        "colab": {
          "base_uri": "https://localhost:8080/"
        }
      },
      "execution_count": 50,
      "outputs": [
        {
          "output_type": "stream",
          "name": "stdout",
          "text": [
            "+-----+-----+-------------+----------+-------------------+---------+---------+\n",
            "|col_1|col_2|        col_3|     col_4|              col_5|new_col_2|new_col_1|\n",
            "+-----+-----+-------------+----------+-------------------+---------+---------+\n",
            "|  100|200.0|string_test_1|2023-01-01|2023-01-01 12:00:00|        A|      100|\n",
            "|  200|300.0|string_test_2|2023-02-01|2023-01-02 12:00:00|        A|      200|\n",
            "|  300|400.0|string_test_3|2023-03-01|2023-01-03 12:00:00|        A|      300|\n",
            "+-----+-----+-------------+----------+-------------------+---------+---------+\n",
            "\n"
          ]
        }
      ]
    },
    {
      "cell_type": "code",
      "source": [
        "data_df = data_df.drop(\"new_col_2\")\n",
        "data_df = data_df.drop(data_df[\"new_col_1\"])\n",
        "# data_df = data_df.drop(\"new_col_2\", \"new_col_1\")\n",
        "data_df.show()"
      ],
      "metadata": {
        "id": "pl8wWMnnUpV8",
        "outputId": "88f0636c-5ec8-4da5-ea49-80ccec644f39",
        "colab": {
          "base_uri": "https://localhost:8080/"
        }
      },
      "execution_count": 51,
      "outputs": [
        {
          "output_type": "stream",
          "name": "stdout",
          "text": [
            "+-----+-----+-------------+----------+-------------------+\n",
            "|col_1|col_2|        col_3|     col_4|              col_5|\n",
            "+-----+-----+-------------+----------+-------------------+\n",
            "|  100|200.0|string_test_1|2023-01-01|2023-01-01 12:00:00|\n",
            "|  200|300.0|string_test_2|2023-02-01|2023-01-02 12:00:00|\n",
            "|  300|400.0|string_test_3|2023-03-01|2023-01-03 12:00:00|\n",
            "+-----+-----+-------------+----------+-------------------+\n",
            "\n"
          ]
        }
      ]
    },
    {
      "cell_type": "code",
      "source": [
        "data_df = data_df.withColumn(\"new_col_1\", data_df[\"col_1\"])\n",
        "data_df.show()"
      ],
      "metadata": {
        "id": "S_lVAmE_WBYf",
        "outputId": "5c6a91f7-fd03-437a-ec8c-4e7fdf4cc7b3",
        "colab": {
          "base_uri": "https://localhost:8080/"
        }
      },
      "execution_count": 52,
      "outputs": [
        {
          "output_type": "stream",
          "name": "stdout",
          "text": [
            "+-----+-----+-------------+----------+-------------------+---------+\n",
            "|col_1|col_2|        col_3|     col_4|              col_5|new_col_1|\n",
            "+-----+-----+-------------+----------+-------------------+---------+\n",
            "|  100|200.0|string_test_1|2023-01-01|2023-01-01 12:00:00|      100|\n",
            "|  200|300.0|string_test_2|2023-02-01|2023-01-02 12:00:00|      200|\n",
            "|  300|400.0|string_test_3|2023-03-01|2023-01-03 12:00:00|      300|\n",
            "+-----+-----+-------------+----------+-------------------+---------+\n",
            "\n"
          ]
        }
      ]
    },
    {
      "cell_type": "code",
      "source": [
        "data_df.withColumn(\"new_col_1\", F.column(\"new_col_1\")/100).show()\n",
        "data_df.withColumn(\"new_col_1\", F.col(\"new_col_1\")/100).show()\n",
        "#data_df.withColumn(\"new_col_1\", col(\"new_col_1\")/100).show() ##Errors out"
      ],
      "metadata": {
        "id": "9VErdUcAW9OL",
        "outputId": "0d49bf02-c765-4c17-c69a-aa38b1b16574",
        "colab": {
          "base_uri": "https://localhost:8080/"
        }
      },
      "execution_count": 59,
      "outputs": [
        {
          "output_type": "stream",
          "name": "stdout",
          "text": [
            "+-----+-----+-------------+----------+-------------------+---------+\n",
            "|col_1|col_2|        col_3|     col_4|              col_5|new_col_1|\n",
            "+-----+-----+-------------+----------+-------------------+---------+\n",
            "|  100|200.0|string_test_1|2023-01-01|2023-01-01 12:00:00|      1.0|\n",
            "|  200|300.0|string_test_2|2023-02-01|2023-01-02 12:00:00|      2.0|\n",
            "|  300|400.0|string_test_3|2023-03-01|2023-01-03 12:00:00|      3.0|\n",
            "+-----+-----+-------------+----------+-------------------+---------+\n",
            "\n",
            "+-----+-----+-------------+----------+-------------------+---------+\n",
            "|col_1|col_2|        col_3|     col_4|              col_5|new_col_1|\n",
            "+-----+-----+-------------+----------+-------------------+---------+\n",
            "|  100|200.0|string_test_1|2023-01-01|2023-01-01 12:00:00|      1.0|\n",
            "|  200|300.0|string_test_2|2023-02-01|2023-01-02 12:00:00|      2.0|\n",
            "|  300|400.0|string_test_3|2023-03-01|2023-01-03 12:00:00|      3.0|\n",
            "+-----+-----+-------------+----------+-------------------+---------+\n",
            "\n"
          ]
        }
      ]
    },
    {
      "cell_type": "code",
      "source": [
        "data_df.withColumnRenamed(\"new_col_1\", \"col_6\").show()"
      ],
      "metadata": {
        "id": "m1V6O71pXMN_",
        "outputId": "06afb681-be00-424f-dec1-7c62cd69324e",
        "colab": {
          "base_uri": "https://localhost:8080/"
        }
      },
      "execution_count": 60,
      "outputs": [
        {
          "output_type": "stream",
          "name": "stdout",
          "text": [
            "+-----+-----+-------------+----------+-------------------+-----+\n",
            "|col_1|col_2|        col_3|     col_4|              col_5|col_6|\n",
            "+-----+-----+-------------+----------+-------------------+-----+\n",
            "|  100|200.0|string_test_1|2023-01-01|2023-01-01 12:00:00|  100|\n",
            "|  200|300.0|string_test_2|2023-02-01|2023-01-02 12:00:00|  200|\n",
            "|  300|400.0|string_test_3|2023-03-01|2023-01-03 12:00:00|  300|\n",
            "+-----+-----+-------------+----------+-------------------+-----+\n",
            "\n"
          ]
        }
      ]
    },
    {
      "cell_type": "code",
      "source": [
        "from enum import unique\n",
        "data_df.select(\"col_3\").distinct().show()"
      ],
      "metadata": {
        "id": "7w1Fxz6xX0OW",
        "outputId": "50ad4144-d4de-42c3-e69e-423ae9a72530",
        "colab": {
          "base_uri": "https://localhost:8080/"
        }
      },
      "execution_count": 63,
      "outputs": [
        {
          "output_type": "stream",
          "name": "stdout",
          "text": [
            "+-------------+\n",
            "|        col_3|\n",
            "+-------------+\n",
            "|string_test_1|\n",
            "|string_test_2|\n",
            "|string_test_3|\n",
            "+-------------+\n",
            "\n"
          ]
        }
      ]
    },
    {
      "cell_type": "code",
      "source": [
        "data_df.select(F.count_distinct(\"col_3\").alias(\"CountDistinct\")).show()"
      ],
      "metadata": {
        "id": "ZGfEUSgPYXwT",
        "outputId": "2ada1942-3d59-4f08-9ba4-b3e1806c7824",
        "colab": {
          "base_uri": "https://localhost:8080/"
        }
      },
      "execution_count": 78,
      "outputs": [
        {
          "output_type": "stream",
          "name": "stdout",
          "text": [
            "+-------------+\n",
            "|CountDistinct|\n",
            "+-------------+\n",
            "|            3|\n",
            "+-------------+\n",
            "\n"
          ]
        }
      ]
    },
    {
      "cell_type": "code",
      "source": [
        "from pyspark.sql.functions import upper\n",
        "data_df.withColumn(\"upper_str_column\", F.upper(\"col_3\")).show()\n",
        "data_df.withColumn(\"upper_str_column\", upper(\"col_3\")).show()"
      ],
      "metadata": {
        "id": "o12FXXNlcKW4",
        "outputId": "e0d22089-0374-4fe2-bb87-2a5cad34d024",
        "colab": {
          "base_uri": "https://localhost:8080/"
        }
      },
      "execution_count": 76,
      "outputs": [
        {
          "output_type": "stream",
          "name": "stdout",
          "text": [
            "+-----+-----+-------------+----------+-------------------+---------+----------------+\n",
            "|col_1|col_2|        col_3|     col_4|              col_5|new_col_1|upper_str_column|\n",
            "+-----+-----+-------------+----------+-------------------+---------+----------------+\n",
            "|  100|200.0|string_test_1|2023-01-01|2023-01-01 12:00:00|      100|   STRING_TEST_1|\n",
            "|  200|300.0|string_test_2|2023-02-01|2023-01-02 12:00:00|      200|   STRING_TEST_2|\n",
            "|  300|400.0|string_test_3|2023-03-01|2023-01-03 12:00:00|      300|   STRING_TEST_3|\n",
            "+-----+-----+-------------+----------+-------------------+---------+----------------+\n",
            "\n",
            "+-----+-----+-------------+----------+-------------------+---------+----------------+\n",
            "|col_1|col_2|        col_3|     col_4|              col_5|new_col_1|upper_str_column|\n",
            "+-----+-----+-------------+----------+-------------------+---------+----------------+\n",
            "|  100|200.0|string_test_1|2023-01-01|2023-01-01 12:00:00|      100|   STRING_TEST_1|\n",
            "|  200|300.0|string_test_2|2023-02-01|2023-01-02 12:00:00|      200|   STRING_TEST_2|\n",
            "|  300|400.0|string_test_3|2023-03-01|2023-01-03 12:00:00|      300|   STRING_TEST_3|\n",
            "+-----+-----+-------------+----------+-------------------+---------+----------------+\n",
            "\n"
          ]
        }
      ]
    },
    {
      "cell_type": "markdown",
      "source": [
        "# Data manipulation - Filter\n"
      ],
      "metadata": {
        "id": "xIz7XHgeeF1L"
      }
    },
    {
      "cell_type": "code",
      "source": [
        "# data_df.filter(column(\"col_3\")==\"string_test_3\").show()\n",
        "\n",
        "data_df.filter(data_df[\"col_3\"]==\"string_test_3\").show()"
      ],
      "metadata": {
        "id": "nFWJjLlvcf-1",
        "outputId": "0af718c4-e8ab-4b83-e2bb-e600177ef3e9",
        "colab": {
          "base_uri": "https://localhost:8080/"
        }
      },
      "execution_count": 80,
      "outputs": [
        {
          "output_type": "stream",
          "name": "stdout",
          "text": [
            "+-----+-----+-------------+----------+-------------------+---------+\n",
            "|col_1|col_2|        col_3|     col_4|              col_5|new_col_1|\n",
            "+-----+-----+-------------+----------+-------------------+---------+\n",
            "|  300|400.0|string_test_3|2023-03-01|2023-01-03 12:00:00|      300|\n",
            "+-----+-----+-------------+----------+-------------------+---------+\n",
            "\n"
          ]
        }
      ]
    },
    {
      "cell_type": "code",
      "source": [
        "data_df.filter(\n",
        "      (data_df[\"col_3\"]!=\"string_test_3\") & (data_df[\"col_1\"]==100)\n",
        "    ).show()"
      ],
      "metadata": {
        "id": "nWzptaWJeUR9",
        "outputId": "03e541a9-0b7c-4eae-b624-252eaefc1678",
        "colab": {
          "base_uri": "https://localhost:8080/"
        }
      },
      "execution_count": 86,
      "outputs": [
        {
          "output_type": "stream",
          "name": "stdout",
          "text": [
            "+-----+-----+-------------+----------+-------------------+---------+\n",
            "|col_1|col_2|        col_3|     col_4|              col_5|new_col_1|\n",
            "+-----+-----+-------------+----------+-------------------+---------+\n",
            "|  100|200.0|string_test_1|2023-01-01|2023-01-01 12:00:00|      100|\n",
            "+-----+-----+-------------+----------+-------------------+---------+\n",
            "\n"
          ]
        }
      ]
    },
    {
      "cell_type": "code",
      "source": [],
      "metadata": {
        "id": "jmVgjCAqe0MJ"
      },
      "execution_count": null,
      "outputs": []
    }
  ]
}